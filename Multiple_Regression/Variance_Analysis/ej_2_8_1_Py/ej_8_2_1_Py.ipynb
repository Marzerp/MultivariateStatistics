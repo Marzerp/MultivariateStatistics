{
 "cells": [
  {
   "cell_type": "markdown",
   "id": "c6758fbb-047e-44db-8130-9f447784e14d",
   "metadata": {},
   "source": [
    "Ejercicio 2(Python): Para el dataset de marketing, realice las pruebas de hipótesis utilizando la tabla de ANOVA sobre: 1) Uno de los parámetros, justificar cual. 2) Todos los parámetros. 3)Un subconjunto de parámetros, justificar cual. Usar la tabla de ANOVA para calcular el estadístico F0 y encontrar el p-valor asociado usando pf(F_0, df1, df2, lower.tail = FALSE). Justifique su respuesta y suba su código en Python a github."
   ]
  },
  {
   "cell_type": "code",
   "execution_count": 3,
   "id": "4e401058-26f2-4576-bb0a-cc7cf64580b1",
   "metadata": {},
   "outputs": [
    {
     "name": "stdout",
     "output_type": "stream",
     "text": [
      "Estructura del dataset:\n",
      "<class 'pandas.core.frame.DataFrame'>\n",
      "RangeIndex: 200 entries, 0 to 199\n",
      "Data columns (total 4 columns):\n",
      " #   Column     Non-Null Count  Dtype  \n",
      "---  ------     --------------  -----  \n",
      " 0   youtube    200 non-null    float64\n",
      " 1   facebook   200 non-null    float64\n",
      " 2   newspaper  200 non-null    float64\n",
      " 3   sales      200 non-null    float64\n",
      "dtypes: float64(4)\n",
      "memory usage: 6.4 KB\n",
      "None\n",
      "\n",
      "Primeras filas:\n",
      "   youtube  facebook  newspaper  sales\n",
      "0   276.12     45.36      83.04  26.52\n",
      "1    53.40     47.16      54.12  12.48\n",
      "2    20.64     55.08      83.16  11.16\n",
      "3   181.80     49.56      70.20  22.20\n",
      "4   216.96     12.96      70.08  15.48\n"
     ]
    }
   ],
   "source": [
    "import pandas as pd\n",
    "import statsmodels.formula.api as smf\n",
    "\n",
    "# Leer el archivo CSV generado en R\n",
    "marketing = pd.read_csv(\"marketing_dataset.csv\")\n",
    "\n",
    "# Mostrar estructura\n",
    "print(\"Estructura del dataset:\")\n",
    "print(marketing.info())\n",
    "print(\"\\nPrimeras filas:\")\n",
    "print(marketing.head())"
   ]
  },
  {
   "cell_type": "code",
   "execution_count": 9,
   "id": "d957b7fc-304d-442c-8b62-ef318f208aa6",
   "metadata": {},
   "outputs": [
    {
     "name": "stdout",
     "output_type": "stream",
     "text": [
      "R2 facebook: 0.33203245544529536\n",
      "R2 youtube: 0.611875050850071\n",
      "R2 newspaper: 0.05212044544430494\n"
     ]
    }
   ],
   "source": [
    "modeloF = smf.ols(formula='sales ~ facebook', data=marketing).fit()\n",
    "modeloY = smf.ols(formula='sales ~ youtube', data=marketing).fit()\n",
    "modeloN = smf.ols(formula='sales ~ newspaper', data=marketing).fit()\n",
    "\n",
    "# Obtener los R² de cada modelo\n",
    "r2_facebook = modeloF.rsquared\n",
    "r2_youtube = modeloY.rsquared\n",
    "r2_newspaper = modeloN.rsquared\n",
    "\n",
    "# Imprimir los resultados (equivalente a cat() en R)\n",
    "print(f\"R2 facebook: {r2_facebook}\")\n",
    "print(f\"R2 youtube: {r2_youtube}\")\n",
    "print(f\"R2 newspaper: {r2_newspaper}\")\n"
   ]
  },
  {
   "cell_type": "markdown",
   "id": "82902c45-3c6b-4f13-800f-f53a4d080998",
   "metadata": {},
   "source": [
    "RESPUESTA  1) Uno de los parámetros, justificar cual.\n",
    "Resultados del codigo anterior:\n",
    "\n",
    "R2 facebook: 0.33203245544529536\n",
    "R2 youtube: 0.611875050850071\n",
    "R2 newspaper: 0.05212044544430494\n",
    "\n",
    "El modelo con sólo youtube es el que explica mejor los datos R^2 = 0.611."
   ]
  },
  {
   "cell_type": "markdown",
   "id": "c22562cf-f565-4be4-a2dc-74c34f85bddd",
   "metadata": {},
   "source": [
    "2) Todos los parámetros."
   ]
  },
  {
   "cell_type": "code",
   "execution_count": 14,
   "id": "899dcec8-ac38-465f-a3a3-cdaccf53cb9f",
   "metadata": {},
   "outputs": [
    {
     "name": "stdout",
     "output_type": "stream",
     "text": [
      "R2 modelo completo: 0.8972106381789522\n",
      "                            OLS Regression Results                            \n",
      "==============================================================================\n",
      "Dep. Variable:                  sales   R-squared:                       0.897\n",
      "Model:                            OLS   Adj. R-squared:                  0.896\n",
      "Method:                 Least Squares   F-statistic:                     570.3\n",
      "Date:                Fri, 12 Sep 2025   Prob (F-statistic):           1.58e-96\n",
      "Time:                        20:29:11   Log-Likelihood:                -422.65\n",
      "No. Observations:                 200   AIC:                             853.3\n",
      "Df Residuals:                     196   BIC:                             866.5\n",
      "Df Model:                           3                                         \n",
      "Covariance Type:            nonrobust                                         \n",
      "==============================================================================\n",
      "                 coef    std err          t      P>|t|      [0.025      0.975]\n",
      "------------------------------------------------------------------------------\n",
      "Intercept      3.5267      0.374      9.422      0.000       2.789       4.265\n",
      "youtube        0.0458      0.001     32.809      0.000       0.043       0.049\n",
      "facebook       0.1885      0.009     21.893      0.000       0.172       0.206\n",
      "newspaper     -0.0010      0.006     -0.177      0.860      -0.013       0.011\n",
      "==============================================================================\n",
      "Omnibus:                       60.414   Durbin-Watson:                   2.084\n",
      "Prob(Omnibus):                  0.000   Jarque-Bera (JB):              151.241\n",
      "Skew:                          -1.327   Prob(JB):                     1.44e-33\n",
      "Kurtosis:                       6.332   Cond. No.                         545.\n",
      "==============================================================================\n",
      "\n",
      "Notes:\n",
      "[1] Standard Errors assume that the covariance matrix of the errors is correctly specified.\n"
     ]
    }
   ],
   "source": [
    "modelo_completo = smf.ols(formula='sales ~ youtube + facebook + newspaper', data=marketing).fit()\n",
    "\n",
    "print(\"R2 modelo completo:\", modelo_completo.rsquared)\n",
    "print(modelo_completo.summary())"
   ]
  },
  {
   "cell_type": "markdown",
   "id": "827a48fc-e62c-41be-b860-a3ead9d42cc5",
   "metadata": {},
   "source": [
    "Del resultado anterior tenemos: \n",
    "\n",
    "R2 modelo completo: 0.8972106381789522\n",
    "Covariance Type:            nonrobust                                         \n",
    "==============================================================================\n",
    "                 coef    std err          t      P>|t|      [0.025      0.975]\n",
    "------------------------------------------------------------------------------\n",
    "Intercept      3.5267      0.374      9.422      0.000       2.789       4.265\n",
    "youtube        0.0458      0.001     32.809      0.000       0.043       0.049\n",
    "facebook       0.1885      0.009     21.893      0.000       0.172       0.206\n",
    "newspaper     -0.0010      0.006     -0.177      0.860      -0.013       0.011\n",
    "==============================================================================\n",
    "\n",
    "El modelo completo tiene R2 = 0.89721 (mayor que modelo solo con youtube).\n",
    "De los valores de p-value por parámetro, vemos que el parámetro newspaper tiene un p-value=0.86,\n",
    "lo cual indica que no debería estar incluido en el modelo. "
   ]
  },
  {
   "cell_type": "markdown",
   "id": "cfb65444-8a12-4847-af0c-9685ff066492",
   "metadata": {},
   "source": [
    "3) Un subconjunto de parámetros, justificar cual.\n",
    "\n",
    "Del análisis anterior, el subconjunto debe contener a youtube y facebook."
   ]
  },
  {
   "cell_type": "code",
   "execution_count": 18,
   "id": "40e5a784-74f6-4f68-954e-1abb728bb802",
   "metadata": {},
   "outputs": [
    {
     "name": "stdout",
     "output_type": "stream",
     "text": [
      "   df_resid          ssr  df_diff      ss_diff           F        Pr(>F)\n",
      "0     198.0  3027.644040      0.0          NaN         NaN           NaN\n",
      "1     197.0   801.956131      1.0  2225.687908  546.738781  9.776972e-59\n",
      "R2 modeloFY: 0.8971942610828956\n",
      "R2_adj modeloFY: 0.8961505479974428\n",
      "R2_adj modelo_completo: 0.8956373316204668\n"
     ]
    }
   ],
   "source": [
    "import statsmodels.api as sm\n",
    "\n",
    "modeloY = smf.ols(formula='sales ~ youtube', data=marketing).fit()\n",
    "modeloFY = smf.ols(formula='sales ~ facebook + youtube', data=marketing).fit()\n",
    "\n",
    "resultado_anova = sm.stats.anova_lm(modeloY, modeloFY)\n",
    "print(resultado_anova)\n",
    "print(\"R2 modeloFY:\", modeloFY.rsquared)\n",
    "print(\"R2_adj modeloFY:\", modeloFY.rsquared_adj)\n",
    "print(\"R2_adj modelo_completo:\", modelo_completo.rsquared_adj)\n"
   ]
  },
  {
   "cell_type": "markdown",
   "id": "4a750996-70ce-4476-8257-69e264c8e752",
   "metadata": {},
   "source": [
    "De los resultados obtenidos:\n",
    "\n",
    "df_resid          ssr  df_diff      ss_diff           F        Pr(>F)\n",
    "0     198.0  3027.644040      0.0          NaN         NaN           NaN\n",
    "1     197.0   801.956131      1.0  2225.687908  546.738781  9.776972e-59\n",
    "R2 modeloFY: 0.8971942610828956\n",
    "R2_adj modeloFY: 0.8961505479974428\n",
    "R2_adj modelo_completo: 0.8956373316204668\n",
    "\n",
    "Se ve que la reducción de error es de 3027.644 (con youtube) a 801.956 (con youtube y facebook) y\n",
    "el valor de p-value es casi 0, lo cual indica que el modelo es mucho mejor. \n",
    "El valor de R^2 es de 0.89719, casi igual al del modelo completo (de 0.89721).\n",
    "\n",
    "El modeloFY es mejor que modelo_completo ya que R^2_adj es mas alto (0.8961) que el modelo completo (0.8956)."
   ]
  }
 ],
 "metadata": {
  "kernelspec": {
   "display_name": "Python 3 (ipykernel)",
   "language": "python",
   "name": "python3"
  },
  "language_info": {
   "codemirror_mode": {
    "name": "ipython",
    "version": 3
   },
   "file_extension": ".py",
   "mimetype": "text/x-python",
   "name": "python",
   "nbconvert_exporter": "python",
   "pygments_lexer": "ipython3",
   "version": "3.13.5"
  }
 },
 "nbformat": 4,
 "nbformat_minor": 5
}
